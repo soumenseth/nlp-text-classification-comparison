{
 "cells": [
  {
   "cell_type": "code",
   "execution_count": 1,
   "metadata": {},
   "outputs": [],
   "source": [
    "import pandas as pd\n",
    "import matplotlib.pyplot as plt\n",
    "from collections import Counter\n",
    "import re\n",
    "from pathlib import Path\n",
    "import os\n",
    "import numpy as np\n",
    "%matplotlib inline\n",
    "\n",
    "import nltk\n",
    "from nltk.corpus import stopwords\n",
    "from nltk.stem import WordNetLemmatizer\n",
    "from sklearn.model_selection import train_test_split"
   ]
  },
  {
   "cell_type": "code",
   "execution_count": 2,
   "metadata": {},
   "outputs": [],
   "source": [
    "## Read data"
   ]
  },
  {
   "cell_type": "code",
   "execution_count": 3,
   "metadata": {},
   "outputs": [],
   "source": [
    "df = pd.read_csv('Dataset/bbc_text.csv', encoding = \"ISO-8859-1\")"
   ]
  },
  {
   "cell_type": "code",
   "execution_count": 4,
   "metadata": {},
   "outputs": [],
   "source": [
    "## Let's view the data table"
   ]
  },
  {
   "cell_type": "code",
   "execution_count": 5,
   "metadata": {},
   "outputs": [
    {
     "data": {
      "text/html": [
       "<div>\n",
       "<style scoped>\n",
       "    .dataframe tbody tr th:only-of-type {\n",
       "        vertical-align: middle;\n",
       "    }\n",
       "\n",
       "    .dataframe tbody tr th {\n",
       "        vertical-align: top;\n",
       "    }\n",
       "\n",
       "    .dataframe thead th {\n",
       "        text-align: right;\n",
       "    }\n",
       "</style>\n",
       "<table border=\"1\" class=\"dataframe\">\n",
       "  <thead>\n",
       "    <tr style=\"text-align: right;\">\n",
       "      <th></th>\n",
       "      <th>category</th>\n",
       "      <th>text</th>\n",
       "    </tr>\n",
       "  </thead>\n",
       "  <tbody>\n",
       "    <tr>\n",
       "      <th>0</th>\n",
       "      <td>tech</td>\n",
       "      <td>tv future in the hands of viewers with home th...</td>\n",
       "    </tr>\n",
       "    <tr>\n",
       "      <th>1</th>\n",
       "      <td>business</td>\n",
       "      <td>worldcom boss  left books alone  former worldc...</td>\n",
       "    </tr>\n",
       "    <tr>\n",
       "      <th>2</th>\n",
       "      <td>sport</td>\n",
       "      <td>tigers wary of farrell  gamble  leicester say ...</td>\n",
       "    </tr>\n",
       "    <tr>\n",
       "      <th>3</th>\n",
       "      <td>sport</td>\n",
       "      <td>yeading face newcastle in fa cup premiership s...</td>\n",
       "    </tr>\n",
       "    <tr>\n",
       "      <th>4</th>\n",
       "      <td>entertainment</td>\n",
       "      <td>ocean s twelve raids box office ocean s twelve...</td>\n",
       "    </tr>\n",
       "  </tbody>\n",
       "</table>\n",
       "</div>"
      ],
      "text/plain": [
       "        category                                               text\n",
       "0           tech  tv future in the hands of viewers with home th...\n",
       "1       business  worldcom boss  left books alone  former worldc...\n",
       "2          sport  tigers wary of farrell  gamble  leicester say ...\n",
       "3          sport  yeading face newcastle in fa cup premiership s...\n",
       "4  entertainment  ocean s twelve raids box office ocean s twelve..."
      ]
     },
     "execution_count": 5,
     "metadata": {},
     "output_type": "execute_result"
    }
   ],
   "source": [
    "df.head()"
   ]
  },
  {
   "cell_type": "code",
   "execution_count": 6,
   "metadata": {},
   "outputs": [
    {
     "name": "stdout",
     "output_type": "stream",
     "text": [
      "No of rows -  2225\n"
     ]
    }
   ],
   "source": [
    "## Let's check number of rows.\n",
    "print(\"No of rows - \", len(df))"
   ]
  },
  {
   "cell_type": "code",
   "execution_count": 7,
   "metadata": {},
   "outputs": [
    {
     "name": "stdout",
     "output_type": "stream",
     "text": [
      "No of rows -  2225\n"
     ]
    }
   ],
   "source": [
    "## We'll remove any row if either category or text is null\n",
    "df = df[df['category'].notnull()]\n",
    "df = df[df['text'].notnull()]\n",
    "print(\"No of rows - \", len(df))"
   ]
  },
  {
   "cell_type": "markdown",
   "metadata": {},
   "source": [
    "Let's check the no of texts in each category"
   ]
  },
  {
   "cell_type": "code",
   "execution_count": 8,
   "metadata": {},
   "outputs": [
    {
     "data": {
      "text/plain": [
       "<matplotlib.axes._subplots.AxesSubplot at 0x1d8bcb8ce80>"
      ]
     },
     "execution_count": 8,
     "metadata": {},
     "output_type": "execute_result"
    },
    {
     "data": {
      "image/png": "[encoded data removed]",
      "text/plain": [
       "<Figure size 432x288 with 1 Axes>"
      ]
     },
     "metadata": {
      "needs_background": "light"
     },
     "output_type": "display_data"
    }
   ],
   "source": [
    "df['category'].value_counts().plot(kind = 'bar')"
   ]
  },
  {
   "cell_type": "markdown",
   "metadata": {},
   "source": [
    "It's pretty evenly distributed."
   ]
  },
  {
   "cell_type": "markdown",
   "metadata": {},
   "source": [
    "#### Let's check no of words in articles"
   ]
  },
  {
   "cell_type": "code",
   "execution_count": 9,
   "metadata": {},
   "outputs": [
    {
     "data": {
      "text/plain": [
       "<matplotlib.axes._subplots.AxesSubplot at 0x1d8bec5c9e8>"
      ]
     },
     "execution_count": 9,
     "metadata": {},
     "output_type": "execute_result"
    },
    {
     "data": {
      "image/png": "[encoded data removed]",
      "text/plain": [
       "<Figure size 432x288 with 1 Axes>"
      ]
     },
     "metadata": {
      "needs_background": "light"
     },
     "output_type": "display_data"
    }
   ],
   "source": [
    "df['word_counts'] = df['text'].apply(lambda x: len(x.split(' ')))\n",
    "df['word_counts'].hist(bins = 30)"
   ]
  },
  {
   "cell_type": "markdown",
   "metadata": {},
   "source": [
    "Mostly, the number of words in articles is less than 1000."
   ]
  },
  {
   "cell_type": "markdown",
   "metadata": {},
   "source": [
    "#### Let's check some of the articles"
   ]
  },
  {
   "cell_type": "code",
   "execution_count": 10,
   "metadata": {},
   "outputs": [
    {
     "data": {
      "text/plain": [
       "'tv future in the hands of viewers with home theatre systems  plasma high-definition tvs  and digital video recorders moving into the living room  the way people watch tv will be radically different in five years  time.  that is according to an expert panel which gathered at the annual consumer electronics show in las vegas to discuss how these new technologies will impact one of our favourite pastimes. with the us leading the trend  programmes and other content will be delivered to viewers via home networks  through cable  satellite  telecoms companies  and broadband service providers to front rooms and portable devices.  one of the most talked-about technologies of ces has been digital and personal video recorders (dvr and pvr). these set-top boxes  like the us s tivo and the uk s sky+ system  allow people to record  store  play  pause and forward wind tv programmes when they want.  essentially  the technology allows for much more personalised tv. they are also being built-in to high-definition tv sets  which are big business in japan and the us  but slower to take off in europe because of the lack of high-definition programming. not only can people forward wind through adverts  they can also forget about abiding by network and channel schedules  putting together their own a-la-carte entertainment. but some us networks and cable and satellite companies are worried about what it means for them in terms of advertising revenues as well as  brand identity  and viewer loyalty to channels. although the us leads in this technology at the moment  it is also a concern that is being raised in europe  particularly with the growing uptake of services like sky+.  what happens here today  we will see in nine months to a years  time in the uk   adam hume  the bbc broadcast s futurologist told the bbc news website. for the likes of the bbc  there are no issues of lost advertising revenue yet. it is a more pressing issue at the moment for commercial uk broadcasters  but brand loyal'"
      ]
     },
     "execution_count": 10,
     "metadata": {},
     "output_type": "execute_result"
    }
   ],
   "source": [
    "df['text'][0][:2000]"
   ]
  },
  {
   "cell_type": "markdown",
   "metadata": {},
   "source": [
    "It's already clean. No further cleaning action is needed."
   ]
  },
  {
   "cell_type": "markdown",
   "metadata": {},
   "source": [
    "### Let's check some of the most used words."
   ]
  },
  {
   "cell_type": "code",
   "execution_count": 14,
   "metadata": {},
   "outputs": [],
   "source": [
    "words = [word for a in df['text'].apply(lambda x: x.split(' ')) for word in a]"
   ]
  },
  {
   "cell_type": "code",
   "execution_count": 15,
   "metadata": {},
   "outputs": [
    {
     "data": {
      "text/plain": [
       "<matplotlib.axes._subplots.AxesSubplot at 0x1d8c60bf358>"
      ]
     },
     "execution_count": 15,
     "metadata": {},
     "output_type": "execute_result"
    },
    {
     "data": {
      "image/png": "[encoded data removed]",
      "text/plain": [
       "<Figure size 1440x720 with 1 Axes>"
      ]
     },
     "metadata": {
      "needs_background": "light"
     },
     "output_type": "display_data"
    }
   ],
   "source": [
    "pd.Series(words).value_counts()[:75].plot(kind = 'bar', figsize = (20, 10))"
   ]
  },
  {
   "cell_type": "markdown",
   "metadata": {},
   "source": [
    "We can see a few words have way higher counts. I think we can remove any word with count of more than 1500."
   ]
  },
  {
   "cell_type": "code",
   "execution_count": 16,
   "metadata": {},
   "outputs": [],
   "source": [
    "word_counts = Counter(words)\n",
    "extra_words = set([word for word in words if word_counts[word]>1500])\n",
    "def remove_extra_words(text):\n",
    "    text = ' '.join(word for word in text.split() if not word in extra_words)\n",
    "    return text\n",
    "df['text'] = df['text'].apply(remove_extra_words)"
   ]
  },
  {
   "cell_type": "code",
   "execution_count": 17,
   "metadata": {},
   "outputs": [
    {
     "data": {
      "text/plain": [
       "<matplotlib.axes._subplots.AxesSubplot at 0x1d8c4458710>"
      ]
     },
     "execution_count": 17,
     "metadata": {},
     "output_type": "execute_result"
    },
    {
     "data": {
      "image/png": "[encoded data removed]",
      "text/plain": [
       "<Figure size 1440x720 with 1 Axes>"
      ]
     },
     "metadata": {
      "needs_background": "light"
     },
     "output_type": "display_data"
    }
   ],
   "source": [
    "words = [word for a in df['text'].apply(lambda x: x.split(' ')) for word in a]\n",
    "pd.Series(words).value_counts()[:75].plot(kind = 'bar', figsize = (20, 10))"
   ]
  },
  {
   "cell_type": "markdown",
   "metadata": {},
   "source": [
    "It's okey now."
   ]
  },
  {
   "cell_type": "markdown",
   "metadata": {},
   "source": [
    "## Let's perform Text Classification"
   ]
  },
  {
   "cell_type": "code",
   "execution_count": 18,
   "metadata": {},
   "outputs": [],
   "source": [
    "from sklearn.model_selection import train_test_split\n",
    "from sklearn.feature_extraction.text import CountVectorizer, TfidfVectorizer, TfidfTransformer\n",
    "from sklearn.metrics import accuracy_score, confusion_matrix, classification_report\n",
    "from sklearn.pipeline import Pipeline\n",
    "from sklearn.decomposition import TruncatedSVD"
   ]
  },
  {
   "cell_type": "code",
   "execution_count": 19,
   "metadata": {},
   "outputs": [],
   "source": [
    "X = df.text\n",
    "y = df.category\n",
    "X_train, X_test, y_train, y_test = train_test_split(X, y, test_size=0.2, random_state = 42)"
   ]
  },
  {
   "cell_type": "code",
   "execution_count": 41,
   "metadata": {},
   "outputs": [],
   "source": [
    "max_features = 1000"
   ]
  },
  {
   "cell_type": "markdown",
   "metadata": {},
   "source": [
    "## Naive Bayes Classifier for Multinomial Models"
   ]
  },
  {
   "cell_type": "code",
   "execution_count": 42,
   "metadata": {},
   "outputs": [],
   "source": [
    "from sklearn.naive_bayes import MultinomialNB"
   ]
  },
  {
   "cell_type": "code",
   "execution_count": 43,
   "metadata": {},
   "outputs": [],
   "source": [
    "nb = Pipeline([('tfidf', TfidfVectorizer(min_df = 5, max_features = max_features, smooth_idf=True, use_idf=True)),\n",
    "               ('clf', MultinomialNB()),\n",
    "              ])"
   ]
  },
  {
   "cell_type": "code",
   "execution_count": 44,
   "metadata": {},
   "outputs": [
    {
     "name": "stdout",
     "output_type": "stream",
     "text": [
      "accuracy 0.9483146067415731\n",
      "               precision    recall  f1-score   support\n",
      "\n",
      "     business       0.91      0.92      0.92       101\n",
      "entertainment       0.97      0.96      0.97        81\n",
      "     politics       0.93      0.94      0.93        83\n",
      "        sport       0.96      0.98      0.97        98\n",
      "         tech       0.97      0.94      0.96        82\n",
      "\n",
      "  avg / total       0.95      0.95      0.95       445\n",
      "\n"
     ]
    },
    {
     "name": "stderr",
     "output_type": "stream",
     "text": [
      "C:\\Users\\Goldi\\AppData\\Roaming\\Python\\Python36\\site-packages\\sklearn\\feature_extraction\\text.py:1089: FutureWarning: Conversion of the second argument of issubdtype from `float` to `np.floating` is deprecated. In future, it will be treated as `np.float64 == np.dtype(float).type`.\n",
      "  if hasattr(X, 'dtype') and np.issubdtype(X.dtype, np.float):\n"
     ]
    }
   ],
   "source": [
    "nb.fit(X_train, y_train)\n",
    "y_pred = nb.predict(X_test)\n",
    "my_tags = y_train.unique().tolist().sort()\n",
    "print('accuracy %s' % accuracy_score(y_pred, y_test))\n",
    "print(classification_report(y_test, y_pred, target_names=my_tags))"
   ]
  },
  {
   "cell_type": "markdown",
   "metadata": {},
   "source": [
    "## Linear Support Vector Machine"
   ]
  },
  {
   "cell_type": "code",
   "execution_count": 45,
   "metadata": {},
   "outputs": [],
   "source": [
    "from sklearn.linear_model import SGDClassifier"
   ]
  },
  {
   "cell_type": "code",
   "execution_count": 46,
   "metadata": {},
   "outputs": [],
   "source": [
    "sgd = Pipeline([('tfidf', TfidfVectorizer(min_df = 7, max_features = 5000, smooth_idf=True, use_idf=True)),\n",
    "                ('clf', SGDClassifier(loss='hinge', penalty='l2',alpha=1e-3, random_state=42, max_iter=5, tol=None)),\n",
    "               ])"
   ]
  },
  {
   "cell_type": "code",
   "execution_count": 47,
   "metadata": {},
   "outputs": [
    {
     "name": "stderr",
     "output_type": "stream",
     "text": [
      "C:\\Users\\Goldi\\AppData\\Roaming\\Python\\Python36\\site-packages\\sklearn\\feature_extraction\\text.py:1089: FutureWarning: Conversion of the second argument of issubdtype from `float` to `np.floating` is deprecated. In future, it will be treated as `np.float64 == np.dtype(float).type`.\n",
      "  if hasattr(X, 'dtype') and np.issubdtype(X.dtype, np.float):\n"
     ]
    },
    {
     "name": "stdout",
     "output_type": "stream",
     "text": [
      "accuracy 0.9662921348314607\n",
      "               precision    recall  f1-score   support\n",
      "\n",
      "     business       0.97      0.90      0.93       101\n",
      "entertainment       0.98      0.99      0.98        81\n",
      "     politics       0.94      0.98      0.96        83\n",
      "        sport       0.97      1.00      0.98        98\n",
      "         tech       0.98      0.98      0.98        82\n",
      "\n",
      "  avg / total       0.97      0.97      0.97       445\n",
      "\n"
     ]
    }
   ],
   "source": [
    "sgd.fit(X_train, y_train)\n",
    "y_pred = sgd.predict(X_test)\n",
    "my_tags = y_train.unique().tolist().sort()\n",
    "print('accuracy %s' % accuracy_score(y_pred, y_test))\n",
    "print(classification_report(y_test, y_pred,target_names=my_tags))"
   ]
  },
  {
   "cell_type": "markdown",
   "metadata": {},
   "source": [
    "## Logistic Regression"
   ]
  },
  {
   "cell_type": "code",
   "execution_count": 48,
   "metadata": {},
   "outputs": [],
   "source": [
    "from sklearn.linear_model import LogisticRegression"
   ]
  },
  {
   "cell_type": "code",
   "execution_count": 49,
   "metadata": {},
   "outputs": [],
   "source": [
    "logreg = Pipeline([('vect', CountVectorizer()),\n",
    "                ('tfidf', TfidfTransformer()),\n",
    "                ('clf', LogisticRegression(n_jobs=1, C=1e7, tol = 1e-4, max_iter = 1000)),\n",
    "               ])"
   ]
  },
  {
   "cell_type": "code",
   "execution_count": 50,
   "metadata": {},
   "outputs": [
    {
     "name": "stderr",
     "output_type": "stream",
     "text": [
      "C:\\Users\\Goldi\\AppData\\Roaming\\Python\\Python36\\site-packages\\sklearn\\feature_extraction\\text.py:1089: FutureWarning: Conversion of the second argument of issubdtype from `float` to `np.floating` is deprecated. In future, it will be treated as `np.float64 == np.dtype(float).type`.\n",
      "  if hasattr(X, 'dtype') and np.issubdtype(X.dtype, np.float):\n"
     ]
    }
   ],
   "source": [
    "logreg.fit(X_train, y_train)\n",
    "y_pred = logreg.predict(X_test)"
   ]
  },
  {
   "cell_type": "code",
   "execution_count": 51,
   "metadata": {},
   "outputs": [
    {
     "name": "stdout",
     "output_type": "stream",
     "text": [
      "accuracy 0.9775280898876404\n",
      "               precision    recall  f1-score   support\n",
      "\n",
      "     business       0.98      0.93      0.95       101\n",
      "entertainment       1.00      1.00      1.00        81\n",
      "     politics       0.94      0.98      0.96        83\n",
      "        sport       0.98      1.00      0.99        98\n",
      "         tech       0.99      0.99      0.99        82\n",
      "\n",
      "  avg / total       0.98      0.98      0.98       445\n",
      "\n"
     ]
    }
   ],
   "source": [
    "my_tags = y_train.unique().tolist().sort()\n",
    "print('accuracy %s' % accuracy_score(y_pred, y_test))\n",
    "print(classification_report(y_test, y_pred,target_names=my_tags))"
   ]
  },
  {
   "cell_type": "markdown",
   "metadata": {},
   "source": [
    "We can see improvement. But, it's still not enough. Let's see if we can get better."
   ]
  },
  {
   "cell_type": "markdown",
   "metadata": {},
   "source": [
    "## XGBoost"
   ]
  },
  {
   "cell_type": "code",
   "execution_count": 52,
   "metadata": {},
   "outputs": [],
   "source": [
    "from xgboost import XGBClassifier"
   ]
  },
  {
   "cell_type": "code",
   "execution_count": 53,
   "metadata": {},
   "outputs": [],
   "source": [
    "xgb = Pipeline([('vect', CountVectorizer()),\n",
    "                ('tfidf', TfidfTransformer()),\n",
    "                ('clf', XGBClassifier(max_depth=4, n_estimators=300, learning_rate=0.1)),\n",
    "               ])"
   ]
  },
  {
   "cell_type": "code",
   "execution_count": 54,
   "metadata": {},
   "outputs": [
    {
     "name": "stderr",
     "output_type": "stream",
     "text": [
      "C:\\Users\\Goldi\\AppData\\Roaming\\Python\\Python36\\site-packages\\sklearn\\feature_extraction\\text.py:1089: FutureWarning: Conversion of the second argument of issubdtype from `float` to `np.floating` is deprecated. In future, it will be treated as `np.float64 == np.dtype(float).type`.\n",
      "  if hasattr(X, 'dtype') and np.issubdtype(X.dtype, np.float):\n",
      "C:\\Users\\Goldi\\AppData\\Roaming\\Python\\Python36\\site-packages\\sklearn\\feature_extraction\\text.py:1089: FutureWarning: Conversion of the second argument of issubdtype from `float` to `np.floating` is deprecated. In future, it will be treated as `np.float64 == np.dtype(float).type`.\n",
      "  if hasattr(X, 'dtype') and np.issubdtype(X.dtype, np.float):\n"
     ]
    }
   ],
   "source": [
    "xgb.fit(X_train, y_train)\n",
    "y_pred = logreg.predict(X_test)"
   ]
  },
  {
   "cell_type": "code",
   "execution_count": 55,
   "metadata": {},
   "outputs": [
    {
     "name": "stdout",
     "output_type": "stream",
     "text": [
      "accuracy 0.9775280898876404\n",
      "               precision    recall  f1-score   support\n",
      "\n",
      "     business       0.98      0.93      0.95       101\n",
      "entertainment       1.00      1.00      1.00        81\n",
      "     politics       0.94      0.98      0.96        83\n",
      "        sport       0.98      1.00      0.99        98\n",
      "         tech       0.99      0.99      0.99        82\n",
      "\n",
      "  avg / total       0.98      0.98      0.98       445\n",
      "\n"
     ]
    }
   ],
   "source": [
    "my_tags = y_train.unique().tolist().sort()\n",
    "print('accuracy %s' % accuracy_score(y_pred, y_test))\n",
    "print(classification_report(y_test, y_pred,target_names=my_tags))"
   ]
  },
  {
   "cell_type": "markdown",
   "metadata": {},
   "source": [
    "## Word2vec and Logistic Regression"
   ]
  },
  {
   "cell_type": "code",
   "execution_count": 20,
   "metadata": {},
   "outputs": [],
   "source": [
    "from gensim.models import Word2Vec, KeyedVectors\n",
    "import gensim\n",
    "from sklearn.linear_model import LogisticRegression"
   ]
  },
  {
   "cell_type": "code",
   "execution_count": 21,
   "metadata": {},
   "outputs": [],
   "source": [
    "w2v_corpus = os.path.join(Path.home(), 'Projects\\\\Accessories\\\\nlp\\\\GoogleNews-vectors-negative300.bin.gz')\n",
    "wv = KeyedVectors.load_word2vec_format(w2v_corpus, binary=True)\n",
    "wv.init_sims(replace=True)"
   ]
  },
  {
   "cell_type": "code",
   "execution_count": 22,
   "metadata": {},
   "outputs": [],
   "source": [
    "def word_averaging(wv, words):\n",
    "    all_words, mean = set(), []\n",
    "    \n",
    "    for word in words:\n",
    "        if isinstance(word, np.ndarray):\n",
    "            mean.append(word)\n",
    "        elif word in wv.vocab:\n",
    "            mean.append(wv.syn0norm[wv.vocab[word].index])\n",
    "            all_words.add(wv.vocab[word].index)\n",
    "    mean = gensim.matutils.unitvec(np.array(mean).mean(axis=0)).astype(np.float32)\n",
    "    return mean"
   ]
  },
  {
   "cell_type": "code",
   "execution_count": 23,
   "metadata": {},
   "outputs": [],
   "source": [
    "def  word_averaging_list(wv, text_list):\n",
    "    return np.vstack([word_averaging(wv, post) for post in text_list ])"
   ]
  },
  {
   "cell_type": "code",
   "execution_count": 24,
   "metadata": {},
   "outputs": [],
   "source": [
    "def w2v_tokenize_text(text):\n",
    "    tokens = []\n",
    "    for sent in nltk.sent_tokenize(text, language='english'):\n",
    "        for word in nltk.word_tokenize(sent, language='english'):\n",
    "            if len(word) < 2:\n",
    "                continue\n",
    "            tokens.append(word)\n",
    "    return tokens"
   ]
  },
  {
   "cell_type": "code",
   "execution_count": 25,
   "metadata": {},
   "outputs": [
    {
     "name": "stderr",
     "output_type": "stream",
     "text": [
      "C:\\Anaconda3\\envs\\medium\\lib\\site-packages\\ipykernel_launcher.py:8: DeprecationWarning: Call to deprecated `syn0norm` (Attribute will be removed in 4.0.0, use self.vectors_norm instead).\n",
      "  \n"
     ]
    }
   ],
   "source": [
    "train, test = train_test_split(df[['category', 'text']], test_size=0.3, random_state = 42)\n",
    "\n",
    "test_tokenized = test.apply(lambda r: w2v_tokenize_text(r['text']), axis=1).values\n",
    "train_tokenized = train.apply(lambda r: w2v_tokenize_text(r['text']), axis=1).values\n",
    "\n",
    "X_train_word_average = word_averaging_list(wv,train_tokenized)\n",
    "X_test_word_average = word_averaging_list(wv,test_tokenized)"
   ]
  },
  {
   "cell_type": "code",
   "execution_count": 28,
   "metadata": {},
   "outputs": [
    {
     "name": "stdout",
     "output_type": "stream",
     "text": [
      "accuracy 0.9670658682634731\n",
      "               precision    recall  f1-score   support\n",
      "\n",
      "     business       0.96      0.93      0.94       164\n",
      "entertainment       0.98      0.97      0.98       113\n",
      "     politics       0.92      0.96      0.94       113\n",
      "        sport       1.00      0.99      1.00       146\n",
      "         tech       0.96      0.98      0.97       132\n",
      "\n",
      "  avg / total       0.97      0.97      0.97       668\n",
      "\n"
     ]
    }
   ],
   "source": [
    "logreg = LogisticRegression(n_jobs=1, C=1e5)\n",
    "logreg = logreg.fit(X_train_word_average, train['category'])\n",
    "y_pred = logreg.predict(X_test_word_average)\n",
    "\n",
    "my_tags = train['category'].unique().tolist().sort()\n",
    "print('accuracy %s' % accuracy_score(y_pred, test.category))\n",
    "print(classification_report(test.category, y_pred,target_names=my_tags))"
   ]
  },
  {
   "cell_type": "markdown",
   "metadata": {},
   "source": [
    "## Doc2vec and Logistic Regression"
   ]
  },
  {
   "cell_type": "code",
   "execution_count": 29,
   "metadata": {},
   "outputs": [],
   "source": [
    "from tqdm import tqdm\n",
    "tqdm.pandas(desc=\"progress-bar\")\n",
    "from gensim.models import Doc2Vec\n",
    "from sklearn import utils\n",
    "import gensim\n",
    "from gensim.models.doc2vec import TaggedDocument"
   ]
  },
  {
   "cell_type": "code",
   "execution_count": 30,
   "metadata": {},
   "outputs": [],
   "source": [
    "def label_sentences(corpus, label_type):\n",
    "    labeled = []\n",
    "    for i, v in enumerate(corpus):\n",
    "        label = label_type + '_' + str(i)\n",
    "        labeled.append(TaggedDocument(v.split(), [label]))\n",
    "    return labeled"
   ]
  },
  {
   "cell_type": "code",
   "execution_count": 32,
   "metadata": {},
   "outputs": [],
   "source": [
    "X_train, X_test, y_train, y_test = train_test_split(df.text, df.category, random_state=0, test_size=0.2)\n",
    "X_train = label_sentences(X_train, 'Train')\n",
    "X_test = label_sentences(X_test, 'Test')\n",
    "all_data = X_train + X_test"
   ]
  },
  {
   "cell_type": "code",
   "execution_count": 33,
   "metadata": {
    "scrolled": true
   },
   "outputs": [
    {
     "name": "stderr",
     "output_type": "stream",
     "text": [
      "100%|█████████████████████████████████████████████████████████████████████████| 2225/2225 [00:00<00:00, 2233148.22it/s]\n",
      "100%|█████████████████████████████████████████████████████████████████████████| 2225/2225 [00:00<00:00, 1109274.50it/s]\n",
      "100%|██████████████████████████████████████████████████████████████████████████| 2225/2225 [00:00<00:00, 557619.89it/s]\n",
      "100%|██████████████████████████████████████████████████████████████████████████| 2225/2225 [00:00<00:00, 743848.75it/s]\n",
      "100%|█████████████████████████████████████████████████████████████████████████| 2225/2225 [00:00<00:00, 2280069.97it/s]\n",
      "100%|█████████████████████████████████████████████████████████████████████████| 2225/2225 [00:00<00:00, 1116306.99it/s]\n",
      "100%|█████████████████████████████████████████████████████████████████████████| 2225/2225 [00:00<00:00, 2231012.77it/s]\n",
      "100%|█████████████████████████████████████████████████████████████████████████| 2225/2225 [00:00<00:00, 2233148.22it/s]\n",
      "100%|██████████████████████████████████████████████████████████████████████████| 2225/2225 [00:00<00:00, 743137.95it/s]\n",
      "100%|█████████████████████████████████████████████████████████████████████████| 2225/2225 [00:00<00:00, 2259096.20it/s]\n",
      "100%|█████████████████████████████████████████████████████████████████████████| 2225/2225 [00:00<00:00, 1117777.75it/s]\n",
      "100%|██████████████████████████████████████████████████████████████████████████| 2225/2225 [00:00<00:00, 740602.05it/s]\n",
      "100%|█████████████████████████████████████████████████████████████████████████| 2225/2225 [00:00<00:00, 1112845.98it/s]\n",
      "100%|█████████████████████████████████████████████████████████████████████████| 2225/2225 [00:00<00:00, 2229946.57it/s]\n",
      "100%|█████████████████████████████████████████████████████████████████████████| 2225/2225 [00:00<00:00, 1115906.54it/s]\n",
      "100%|█████████████████████████████████████████████████████████████████████████| 2225/2225 [00:00<00:00, 2259643.20it/s]\n",
      "100%|█████████████████████████████████████████████████████████████████████████| 2225/2225 [00:00<00:00, 1115506.38it/s]\n",
      "100%|██████████████████████████████████████████████████████████████████████████| 2225/2225 [00:00<00:00, 743493.18it/s]\n",
      "100%|█████████████████████████████████████████████████████████████████████████| 2225/2225 [00:00<00:00, 1116039.99it/s]\n",
      "100%|█████████████████████████████████████████████████████████████████████████| 2225/2225 [00:00<00:00, 2249295.35it/s]\n",
      "100%|█████████████████████████████████████████████████████████████████████████| 2225/2225 [00:00<00:00, 2233148.22it/s]\n",
      "100%|█████████████████████████████████████████████████████████████████████████| 2225/2225 [00:00<00:00, 1115639.74it/s]\n",
      "100%|█████████████████████████████████████████████████████████████████████████| 2225/2225 [00:00<00:00, 1116039.99it/s]\n",
      "100%|█████████████████████████████████████████████████████████████████████████| 2225/2225 [00:00<00:00, 2231012.77it/s]\n",
      "100%|█████████████████████████████████████████████████████████████████████████| 2225/2225 [00:00<00:00, 1109934.16it/s]\n",
      "100%|█████████████████████████████████████████████████████████████████████████| 2225/2225 [00:00<00:00, 1115506.38it/s]\n",
      "100%|█████████████████████████████████████████████████████████████████████████| 2225/2225 [00:00<00:00, 2225161.28it/s]\n",
      "100%|██████████████████████████████████████████████████████████████████████████| 2225/2225 [00:00<00:00, 743552.42it/s]\n",
      "100%|██████████████████████████████████████████████████████████████████████████| 2225/2225 [00:00<00:00, 743256.32it/s]\n",
      "100%|█████████████████████████████████████████████████████████████████████████| 2225/2225 [00:00<00:00, 2230479.54it/s]\n",
      "100%|██████████████████████████████████████████████████████████████████████████| 2225/2225 [00:00<00:00, 557553.26it/s]\n"
     ]
    }
   ],
   "source": [
    "model_dbow = Doc2Vec(dm=0, vector_size=300, negative=5, min_count=1, alpha=0.065, min_alpha=0.065)\n",
    "model_dbow.build_vocab([x for x in tqdm(all_data)])\n",
    "\n",
    "for epoch in range(30):\n",
    "    model_dbow.train(utils.shuffle([x for x in tqdm(all_data)]), total_examples=len(all_data), epochs=1)\n",
    "    model_dbow.alpha -= 0.002\n",
    "    model_dbow.min_alpha = model_dbow.alpha"
   ]
  },
  {
   "cell_type": "code",
   "execution_count": 34,
   "metadata": {},
   "outputs": [],
   "source": [
    "def get_vectors(model, corpus_size, vectors_size, vectors_type):\n",
    "    vectors = np.zeros((corpus_size, vectors_size))\n",
    "    for i in range(0, corpus_size):\n",
    "        prefix = vectors_type + '_' + str(i)\n",
    "        vectors[i] = model.docvecs[prefix]\n",
    "    return vectors\n",
    "    \n",
    "train_vectors_dbow = get_vectors(model_dbow, len(X_train), 300, 'Train')\n",
    "test_vectors_dbow = get_vectors(model_dbow, len(X_test), 300, 'Test')"
   ]
  },
  {
   "cell_type": "code",
   "execution_count": 35,
   "metadata": {},
   "outputs": [
    {
     "name": "stdout",
     "output_type": "stream",
     "text": [
      "accuracy 0.9775280898876404\n",
      "               precision    recall  f1-score   support\n",
      "\n",
      "     business       0.99      0.99      0.99        97\n",
      "entertainment       0.95      0.99      0.97        81\n",
      "     politics       0.97      0.93      0.95        75\n",
      "        sport       0.98      0.99      0.99       112\n",
      "         tech       0.99      0.97      0.98        80\n",
      "\n",
      "  avg / total       0.98      0.98      0.98       445\n",
      "\n"
     ]
    }
   ],
   "source": [
    "logreg = LogisticRegression(n_jobs=1, C=1e5)\n",
    "logreg.fit(train_vectors_dbow, y_train)\n",
    "logreg = logreg.fit(train_vectors_dbow, y_train)\n",
    "y_pred = logreg.predict(test_vectors_dbow)\n",
    "\n",
    "my_tags = train['category'].unique().tolist().sort()\n",
    "print('accuracy %s' % accuracy_score(y_pred, y_test))\n",
    "print(classification_report(y_test, y_pred,target_names=my_tags))"
   ]
  },
  {
   "cell_type": "markdown",
   "metadata": {},
   "source": [
    "## Bag of Words (BOW) with Keras"
   ]
  },
  {
   "cell_type": "code",
   "execution_count": 6,
   "metadata": {},
   "outputs": [
    {
     "name": "stderr",
     "output_type": "stream",
     "text": [
      "Using TensorFlow backend.\n"
     ]
    }
   ],
   "source": [
    "import itertools\n",
    "\n",
    "import tensorflow as tf\n",
    "\n",
    "from sklearn.preprocessing import LabelBinarizer, LabelEncoder\n",
    "from sklearn.metrics import confusion_matrix\n",
    "\n",
    "from tensorflow import keras\n",
    "from keras.models import Sequential\n",
    "from keras.layers import Dense, Activation, Dropout, BatchNormalization\n",
    "from keras.preprocessing import text, sequence\n",
    "from keras import utils"
   ]
  },
  {
   "cell_type": "code",
   "execution_count": 16,
   "metadata": {},
   "outputs": [],
   "source": [
    "train_text, test_text, train_category, test_category = train_test_split(df.text, df.category, random_state=0, test_size=0.3)"
   ]
  },
  {
   "cell_type": "code",
   "execution_count": 31,
   "metadata": {},
   "outputs": [],
   "source": [
    "max_words = 1000\n",
    "tokenize = text.Tokenizer(num_words=max_words, char_level=False)\n",
    "tokenize.fit_on_texts(train_text) # only fit on train"
   ]
  },
  {
   "cell_type": "code",
   "execution_count": 32,
   "metadata": {},
   "outputs": [],
   "source": [
    "x_train = tokenize.texts_to_matrix(train_text)\n",
    "x_test = tokenize.texts_to_matrix(test_text)"
   ]
  },
  {
   "cell_type": "code",
   "execution_count": 10,
   "metadata": {},
   "outputs": [],
   "source": [
    "encoder = LabelEncoder()\n",
    "encoder.fit(train_category)\n",
    "y_train = encoder.transform(train_category)\n",
    "y_test = encoder.transform(test_category)"
   ]
  },
  {
   "cell_type": "code",
   "execution_count": 11,
   "metadata": {},
   "outputs": [],
   "source": [
    "num_classes = np.max(y_train) + 1\n",
    "y_train = utils.to_categorical(y_train, num_classes)\n",
    "y_test = utils.to_categorical(y_test, num_classes)"
   ]
  },
  {
   "cell_type": "code",
   "execution_count": 35,
   "metadata": {},
   "outputs": [
    {
     "name": "stdout",
     "output_type": "stream",
     "text": [
      "x_train shape: (1557, 1000)\n",
      "x_test shape: (668, 1000)\n",
      "y_train shape: (1557, 5)\n",
      "y_test shape: (668, 5)\n"
     ]
    }
   ],
   "source": [
    "print('x_train shape:', x_train.shape)\n",
    "print('x_test shape:', x_test.shape)\n",
    "print('y_train shape:', y_train.shape)\n",
    "print('y_test shape:', y_test.shape)"
   ]
  },
  {
   "cell_type": "code",
   "execution_count": 36,
   "metadata": {},
   "outputs": [],
   "source": [
    "batch_size = 32\n",
    "epochs = 100"
   ]
  },
  {
   "cell_type": "code",
   "execution_count": 37,
   "metadata": {},
   "outputs": [],
   "source": [
    "# Build the model\n",
    "model = Sequential()\n",
    "\n",
    "model.add(Dense(512, input_shape=(max_words,)))\n",
    "model.add(Activation('relu'))\n",
    "\n",
    "model.add(Dense(512))\n",
    "model.add(Activation('relu'))\n",
    "\n",
    "model.add(Dropout(0.5))\n",
    "\n",
    "model.add(Dense(num_classes))\n",
    "model.add(Activation('softmax'))\n",
    "\n",
    "model.compile(loss='categorical_crossentropy',\n",
    "              optimizer='adam',\n",
    "              metrics=['accuracy'])"
   ]
  },
  {
   "cell_type": "code",
   "execution_count": 38,
   "metadata": {
    "scrolled": true
   },
   "outputs": [
    {
     "name": "stdout",
     "output_type": "stream",
     "text": [
      "Train on 1401 samples, validate on 156 samples\n",
      "Epoch 1/100\n",
      "1401/1401 [==============================] - 1s 610us/step - loss: 0.6576 - acc: 0.7666 - val_loss: 0.1314 - val_acc: 0.9551\n",
      "Epoch 2/100\n",
      "1401/1401 [==============================] - 0s 213us/step - loss: 0.0894 - acc: 0.9743 - val_loss: 0.1467 - val_acc: 0.9551\n",
      "Epoch 3/100\n",
      "1401/1401 [==============================] - 0s 202us/step - loss: 0.0173 - acc: 0.9957 - val_loss: 0.1243 - val_acc: 0.9615\n",
      "Epoch 4/100\n",
      "1401/1401 [==============================] - 0s 205us/step - loss: 0.0102 - acc: 0.9979 - val_loss: 0.1009 - val_acc: 0.9551\n",
      "Epoch 5/100\n",
      "1401/1401 [==============================] - 0s 207us/step - loss: 0.0030 - acc: 1.0000 - val_loss: 0.1019 - val_acc: 0.9744\n",
      "Epoch 6/100\n",
      "1401/1401 [==============================] - 0s 201us/step - loss: 0.0016 - acc: 1.0000 - val_loss: 0.1050 - val_acc: 0.9679\n",
      "Epoch 7/100\n",
      "1401/1401 [==============================] - 0s 202us/step - loss: 8.7578e-04 - acc: 1.0000 - val_loss: 0.1052 - val_acc: 0.9679\n",
      "Epoch 8/100\n",
      "1401/1401 [==============================] - 0s 206us/step - loss: 7.0473e-04 - acc: 1.0000 - val_loss: 0.1123 - val_acc: 0.9679\n",
      "Epoch 9/100\n",
      "1401/1401 [==============================] - 0s 208us/step - loss: 6.3752e-04 - acc: 1.0000 - val_loss: 0.1157 - val_acc: 0.9615\n",
      "Epoch 10/100\n",
      "1401/1401 [==============================] - 0s 217us/step - loss: 6.8177e-04 - acc: 1.0000 - val_loss: 0.1298 - val_acc: 0.9679\n",
      "Epoch 11/100\n",
      "1401/1401 [==============================] - 0s 209us/step - loss: 3.7281e-04 - acc: 1.0000 - val_loss: 0.1151 - val_acc: 0.9615\n",
      "Epoch 12/100\n",
      "1401/1401 [==============================] - 0s 205us/step - loss: 2.8967e-04 - acc: 1.0000 - val_loss: 0.1182 - val_acc: 0.9679\n",
      "Epoch 13/100\n",
      "1401/1401 [==============================] - 0s 208us/step - loss: 4.5489e-04 - acc: 1.0000 - val_loss: 0.1205 - val_acc: 0.9615\n",
      "Epoch 14/100\n",
      "1401/1401 [==============================] - 0s 203us/step - loss: 2.4670e-04 - acc: 1.0000 - val_loss: 0.1212 - val_acc: 0.9679\n",
      "Epoch 15/100\n",
      "1401/1401 [==============================] - 0s 205us/step - loss: 2.4364e-04 - acc: 1.0000 - val_loss: 0.1269 - val_acc: 0.9679\n",
      "Epoch 16/100\n",
      "1401/1401 [==============================] - 0s 201us/step - loss: 1.7593e-04 - acc: 1.0000 - val_loss: 0.1278 - val_acc: 0.9679\n",
      "Epoch 17/100\n",
      "1401/1401 [==============================] - 0s 203us/step - loss: 1.6572e-04 - acc: 1.0000 - val_loss: 0.1277 - val_acc: 0.9679\n",
      "Epoch 18/100\n",
      "1401/1401 [==============================] - 0s 205us/step - loss: 1.1355e-04 - acc: 1.0000 - val_loss: 0.1302 - val_acc: 0.9679\n",
      "Epoch 19/100\n",
      "1401/1401 [==============================] - 0s 202us/step - loss: 1.0250e-04 - acc: 1.0000 - val_loss: 0.1296 - val_acc: 0.9679\n",
      "Epoch 20/100\n",
      "1401/1401 [==============================] - 0s 203us/step - loss: 1.1084e-04 - acc: 1.0000 - val_loss: 0.1279 - val_acc: 0.9679\n",
      "Epoch 21/100\n",
      "1401/1401 [==============================] - 0s 202us/step - loss: 1.3673e-04 - acc: 1.0000 - val_loss: 0.1314 - val_acc: 0.9679\n",
      "Epoch 22/100\n",
      "1401/1401 [==============================] - 0s 205us/step - loss: 1.0331e-04 - acc: 1.0000 - val_loss: 0.1311 - val_acc: 0.9679\n",
      "Epoch 23/100\n",
      "1401/1401 [==============================] - 0s 206us/step - loss: 9.4396e-05 - acc: 1.0000 - val_loss: 0.1295 - val_acc: 0.9679\n",
      "Epoch 24/100\n",
      "1401/1401 [==============================] - 0s 206us/step - loss: 7.3163e-05 - acc: 1.0000 - val_loss: 0.1319 - val_acc: 0.9679\n",
      "Epoch 25/100\n",
      "1401/1401 [==============================] - 0s 209us/step - loss: 8.4187e-05 - acc: 1.0000 - val_loss: 0.1322 - val_acc: 0.9679\n",
      "Epoch 26/100\n",
      "1401/1401 [==============================] - 0s 203us/step - loss: 6.5558e-05 - acc: 1.0000 - val_loss: 0.1326 - val_acc: 0.9679\n",
      "Epoch 27/100\n",
      "1401/1401 [==============================] - 0s 207us/step - loss: 5.9362e-05 - acc: 1.0000 - val_loss: 0.1342 - val_acc: 0.9679\n",
      "Epoch 28/100\n",
      "1401/1401 [==============================] - 0s 211us/step - loss: 4.9870e-05 - acc: 1.0000 - val_loss: 0.1358 - val_acc: 0.9679\n",
      "Epoch 29/100\n",
      "1401/1401 [==============================] - 0s 204us/step - loss: 7.4920e-05 - acc: 1.0000 - val_loss: 0.1391 - val_acc: 0.9679\n",
      "Epoch 30/100\n",
      "1401/1401 [==============================] - 0s 205us/step - loss: 6.0004e-05 - acc: 1.0000 - val_loss: 0.1457 - val_acc: 0.9679\n",
      "Epoch 31/100\n",
      "1401/1401 [==============================] - 0s 224us/step - loss: 4.5469e-05 - acc: 1.0000 - val_loss: 0.1436 - val_acc: 0.9679\n",
      "Epoch 32/100\n",
      "1401/1401 [==============================] - 0s 210us/step - loss: 4.2145e-05 - acc: 1.0000 - val_loss: 0.1412 - val_acc: 0.9679\n",
      "Epoch 33/100\n",
      "1401/1401 [==============================] - 0s 220us/step - loss: 4.6286e-05 - acc: 1.0000 - val_loss: 0.1410 - val_acc: 0.9679\n",
      "Epoch 34/100\n",
      "1401/1401 [==============================] - 0s 209us/step - loss: 3.7022e-05 - acc: 1.0000 - val_loss: 0.1447 - val_acc: 0.9679\n",
      "Epoch 35/100\n",
      "1401/1401 [==============================] - 0s 209us/step - loss: 3.9279e-05 - acc: 1.0000 - val_loss: 0.1440 - val_acc: 0.9679\n",
      "Epoch 36/100\n",
      "1401/1401 [==============================] - 0s 216us/step - loss: 4.8044e-05 - acc: 1.0000 - val_loss: 0.1433 - val_acc: 0.9679\n",
      "Epoch 37/100\n",
      "1401/1401 [==============================] - 0s 224us/step - loss: 2.9103e-05 - acc: 1.0000 - val_loss: 0.1441 - val_acc: 0.9679\n",
      "Epoch 38/100\n",
      "1401/1401 [==============================] - 0s 213us/step - loss: 5.4349e-05 - acc: 1.0000 - val_loss: 0.1451 - val_acc: 0.9679\n",
      "Epoch 39/100\n",
      "1401/1401 [==============================] - 0s 209us/step - loss: 3.8774e-05 - acc: 1.0000 - val_loss: 0.1440 - val_acc: 0.9679\n",
      "Epoch 40/100\n",
      "1401/1401 [==============================] - 0s 201us/step - loss: 2.9070e-05 - acc: 1.0000 - val_loss: 0.1463 - val_acc: 0.9679\n",
      "Epoch 41/100\n",
      "1401/1401 [==============================] - 0s 207us/step - loss: 4.8127e-05 - acc: 1.0000 - val_loss: 0.1434 - val_acc: 0.9679\n",
      "Epoch 42/100\n",
      "1401/1401 [==============================] - 0s 206us/step - loss: 2.5908e-05 - acc: 1.0000 - val_loss: 0.1461 - val_acc: 0.9679\n",
      "Epoch 43/100\n",
      "1401/1401 [==============================] - 0s 208us/step - loss: 3.0052e-05 - acc: 1.0000 - val_loss: 0.1510 - val_acc: 0.9679\n",
      "Epoch 44/100\n",
      "1401/1401 [==============================] - 0s 203us/step - loss: 2.3478e-05 - acc: 1.0000 - val_loss: 0.1506 - val_acc: 0.9679\n",
      "Epoch 45/100\n",
      "1401/1401 [==============================] - 0s 207us/step - loss: 1.9749e-05 - acc: 1.0000 - val_loss: 0.1525 - val_acc: 0.9679\n",
      "Epoch 46/100\n",
      "1401/1401 [==============================] - 0s 202us/step - loss: 2.4521e-05 - acc: 1.0000 - val_loss: 0.1542 - val_acc: 0.9679\n",
      "Epoch 47/100\n",
      "1401/1401 [==============================] - 0s 203us/step - loss: 2.3743e-05 - acc: 1.0000 - val_loss: 0.1547 - val_acc: 0.9679\n",
      "Epoch 48/100\n",
      "1401/1401 [==============================] - 0s 203us/step - loss: 2.1428e-05 - acc: 1.0000 - val_loss: 0.1532 - val_acc: 0.9679\n",
      "Epoch 49/100\n",
      "1401/1401 [==============================] - 0s 209us/step - loss: 2.3929e-05 - acc: 1.0000 - val_loss: 0.1515 - val_acc: 0.9679\n",
      "Epoch 50/100\n",
      "1401/1401 [==============================] - 0s 219us/step - loss: 1.6202e-05 - acc: 1.0000 - val_loss: 0.1556 - val_acc: 0.9679\n",
      "Epoch 51/100\n",
      "1401/1401 [==============================] - 0s 210us/step - loss: 2.1524e-05 - acc: 1.0000 - val_loss: 0.1540 - val_acc: 0.9679\n",
      "Epoch 52/100\n",
      "1401/1401 [==============================] - 0s 205us/step - loss: 2.0634e-05 - acc: 1.0000 - val_loss: 0.1552 - val_acc: 0.9679\n",
      "Epoch 53/100\n",
      "1401/1401 [==============================] - 0s 211us/step - loss: 1.2046e-05 - acc: 1.0000 - val_loss: 0.1567 - val_acc: 0.9679\n",
      "Epoch 54/100\n",
      "1401/1401 [==============================] - 0s 220us/step - loss: 1.7514e-05 - acc: 1.0000 - val_loss: 0.1585 - val_acc: 0.9679\n",
      "Epoch 55/100\n",
      "1401/1401 [==============================] - 0s 216us/step - loss: 1.4669e-05 - acc: 1.0000 - val_loss: 0.1582 - val_acc: 0.9679\n",
      "Epoch 56/100\n",
      "1401/1401 [==============================] - 0s 219us/step - loss: 1.6103e-05 - acc: 1.0000 - val_loss: 0.1583 - val_acc: 0.9679\n",
      "Epoch 57/100\n",
      "1401/1401 [==============================] - 0s 216us/step - loss: 1.3527e-05 - acc: 1.0000 - val_loss: 0.1568 - val_acc: 0.9679\n",
      "Epoch 58/100\n",
      "1401/1401 [==============================] - 0s 223us/step - loss: 1.3444e-05 - acc: 1.0000 - val_loss: 0.1602 - val_acc: 0.9679\n",
      "Epoch 59/100\n",
      "1401/1401 [==============================] - 0s 221us/step - loss: 1.4049e-05 - acc: 1.0000 - val_loss: 0.1614 - val_acc: 0.9679\n",
      "Epoch 60/100\n",
      "1401/1401 [==============================] - 0s 221us/step - loss: 1.5533e-05 - acc: 1.0000 - val_loss: 0.1603 - val_acc: 0.9679\n",
      "Epoch 61/100\n",
      "1401/1401 [==============================] - 0s 195us/step - loss: 9.6517e-06 - acc: 1.0000 - val_loss: 0.1607 - val_acc: 0.9679\n",
      "Epoch 62/100\n",
      "1401/1401 [==============================] - 0s 194us/step - loss: 1.0650e-05 - acc: 1.0000 - val_loss: 0.1638 - val_acc: 0.9679\n",
      "Epoch 63/100\n",
      "1401/1401 [==============================] - 0s 194us/step - loss: 1.0913e-05 - acc: 1.0000 - val_loss: 0.1647 - val_acc: 0.9679\n",
      "Epoch 64/100\n",
      "1401/1401 [==============================] - 0s 210us/step - loss: 1.1246e-05 - acc: 1.0000 - val_loss: 0.1643 - val_acc: 0.9679\n",
      "Epoch 65/100\n",
      "1401/1401 [==============================] - 0s 211us/step - loss: 1.0764e-05 - acc: 1.0000 - val_loss: 0.1666 - val_acc: 0.9679\n",
      "Epoch 66/100\n",
      "1401/1401 [==============================] - 0s 202us/step - loss: 1.2157e-05 - acc: 1.0000 - val_loss: 0.1675 - val_acc: 0.9679\n",
      "Epoch 67/100\n",
      "1401/1401 [==============================] - 0s 203us/step - loss: 1.0645e-05 - acc: 1.0000 - val_loss: 0.1677 - val_acc: 0.9679\n",
      "Epoch 68/100\n",
      "1401/1401 [==============================] - 0s 203us/step - loss: 7.5534e-06 - acc: 1.0000 - val_loss: 0.1700 - val_acc: 0.9679\n",
      "Epoch 69/100\n",
      "1401/1401 [==============================] - 0s 205us/step - loss: 1.3558e-05 - acc: 1.0000 - val_loss: 0.1731 - val_acc: 0.9679\n",
      "Epoch 70/100\n",
      "1401/1401 [==============================] - 0s 206us/step - loss: 1.1017e-05 - acc: 1.0000 - val_loss: 0.1719 - val_acc: 0.9679\n",
      "Epoch 71/100\n",
      "1401/1401 [==============================] - 0s 209us/step - loss: 6.7354e-06 - acc: 1.0000 - val_loss: 0.1693 - val_acc: 0.9679\n",
      "Epoch 72/100\n",
      "1401/1401 [==============================] - 0s 208us/step - loss: 8.5973e-06 - acc: 1.0000 - val_loss: 0.1691 - val_acc: 0.9679\n",
      "Epoch 73/100\n",
      "1401/1401 [==============================] - 0s 201us/step - loss: 5.0801e-06 - acc: 1.0000 - val_loss: 0.1682 - val_acc: 0.9679\n",
      "Epoch 74/100\n",
      "1401/1401 [==============================] - 0s 206us/step - loss: 5.4478e-06 - acc: 1.0000 - val_loss: 0.1686 - val_acc: 0.9679\n",
      "Epoch 75/100\n",
      "1401/1401 [==============================] - 0s 206us/step - loss: 7.7910e-06 - acc: 1.0000 - val_loss: 0.1691 - val_acc: 0.9679\n",
      "Epoch 76/100\n",
      "1401/1401 [==============================] - 0s 206us/step - loss: 5.3303e-06 - acc: 1.0000 - val_loss: 0.1708 - val_acc: 0.9679\n",
      "Epoch 77/100\n",
      "1401/1401 [==============================] - 0s 205us/step - loss: 7.4315e-06 - acc: 1.0000 - val_loss: 0.1685 - val_acc: 0.9679\n",
      "Epoch 78/100\n",
      "1401/1401 [==============================] - 0s 200us/step - loss: 7.1982e-06 - acc: 1.0000 - val_loss: 0.1689 - val_acc: 0.9679\n",
      "Epoch 79/100\n",
      "1401/1401 [==============================] - 0s 207us/step - loss: 6.8252e-06 - acc: 1.0000 - val_loss: 0.1710 - val_acc: 0.9679\n",
      "Epoch 80/100\n",
      "1401/1401 [==============================] - 0s 207us/step - loss: 5.3246e-06 - acc: 1.0000 - val_loss: 0.1702 - val_acc: 0.9679\n",
      "Epoch 81/100\n",
      "1401/1401 [==============================] - 0s 202us/step - loss: 6.5924e-06 - acc: 1.0000 - val_loss: 0.1709 - val_acc: 0.9679\n",
      "Epoch 82/100\n",
      "1401/1401 [==============================] - 0s 206us/step - loss: 5.3416e-06 - acc: 1.0000 - val_loss: 0.1702 - val_acc: 0.9679\n",
      "Epoch 83/100\n",
      "1401/1401 [==============================] - 0s 206us/step - loss: 4.6906e-06 - acc: 1.0000 - val_loss: 0.1702 - val_acc: 0.9679\n",
      "Epoch 84/100\n",
      "1401/1401 [==============================] - 0s 206us/step - loss: 1.0795e-05 - acc: 1.0000 - val_loss: 0.1769 - val_acc: 0.9679\n",
      "Epoch 85/100\n",
      "1401/1401 [==============================] - 0s 209us/step - loss: 5.5238e-06 - acc: 1.0000 - val_loss: 0.1729 - val_acc: 0.9679\n",
      "Epoch 86/100\n",
      "1401/1401 [==============================] - 0s 210us/step - loss: 5.5777e-06 - acc: 1.0000 - val_loss: 0.1723 - val_acc: 0.9679\n",
      "Epoch 87/100\n",
      "1401/1401 [==============================] - 0s 208us/step - loss: 6.4650e-06 - acc: 1.0000 - val_loss: 0.1726 - val_acc: 0.9679\n",
      "Epoch 88/100\n",
      "1401/1401 [==============================] - 0s 204us/step - loss: 9.5517e-06 - acc: 1.0000 - val_loss: 0.1770 - val_acc: 0.9679\n",
      "Epoch 89/100\n",
      "1401/1401 [==============================] - 0s 207us/step - loss: 4.9235e-06 - acc: 1.0000 - val_loss: 0.1798 - val_acc: 0.9679\n",
      "Epoch 90/100\n",
      "1401/1401 [==============================] - 0s 201us/step - loss: 6.5319e-06 - acc: 1.0000 - val_loss: 0.1731 - val_acc: 0.9679\n",
      "Epoch 91/100\n",
      "1401/1401 [==============================] - 0s 206us/step - loss: 9.8235e-06 - acc: 1.0000 - val_loss: 0.1766 - val_acc: 0.9679\n",
      "Epoch 92/100\n",
      "1401/1401 [==============================] - 0s 201us/step - loss: 3.2472e-06 - acc: 1.0000 - val_loss: 0.1772 - val_acc: 0.9679\n",
      "Epoch 93/100\n",
      "1401/1401 [==============================] - 0s 205us/step - loss: 5.9738e-06 - acc: 1.0000 - val_loss: 0.1777 - val_acc: 0.9679\n",
      "Epoch 94/100\n",
      "1401/1401 [==============================] - 0s 208us/step - loss: 3.5501e-06 - acc: 1.0000 - val_loss: 0.1774 - val_acc: 0.9679\n",
      "Epoch 95/100\n",
      "1401/1401 [==============================] - 0s 206us/step - loss: 3.6118e-06 - acc: 1.0000 - val_loss: 0.1775 - val_acc: 0.9679\n",
      "Epoch 96/100\n",
      "1401/1401 [==============================] - 0s 210us/step - loss: 3.4373e-06 - acc: 1.0000 - val_loss: 0.1781 - val_acc: 0.9679\n",
      "Epoch 97/100\n",
      "1401/1401 [==============================] - 0s 209us/step - loss: 3.1157e-06 - acc: 1.0000 - val_loss: 0.1784 - val_acc: 0.9679\n",
      "Epoch 98/100\n",
      "1401/1401 [==============================] - 0s 213us/step - loss: 3.0437e-06 - acc: 1.0000 - val_loss: 0.1766 - val_acc: 0.9679\n",
      "Epoch 99/100\n",
      "1401/1401 [==============================] - 0s 216us/step - loss: 2.8158e-06 - acc: 1.0000 - val_loss: 0.1797 - val_acc: 0.9679\n",
      "Epoch 100/100\n",
      "1401/1401 [==============================] - 0s 214us/step - loss: 4.3697e-06 - acc: 1.0000 - val_loss: 0.1951 - val_acc: 0.9679\n"
     ]
    }
   ],
   "source": [
    "history = model.fit(x_train, y_train,\n",
    "                    batch_size=batch_size,\n",
    "                    epochs=epochs,\n",
    "                    verbose=1,\n",
    "                    validation_split=0.1)"
   ]
  },
  {
   "cell_type": "code",
   "execution_count": 39,
   "metadata": {},
   "outputs": [
    {
     "name": "stdout",
     "output_type": "stream",
     "text": [
      "668/668 [==============================] - 0s 69us/step\n",
      "Test loss: 0.13209199021128937\n",
      "Test accuracy: 0.9670658671927309\n"
     ]
    }
   ],
   "source": [
    "score = model.evaluate(x_test, y_test,\n",
    "                       batch_size=batch_size, verbose=1)\n",
    "print('Test loss:', score[0])\n",
    "print('Test accuracy:', score[1])"
   ]
  },
  {
   "cell_type": "markdown",
   "metadata": {},
   "source": [
    "All the models worked pretty good on this dataset. The highest accuracy I got is 98 with Logistic Regression and XGBoost. This will vary for different types of data. I may be able to push the accuracy further with some hyperparameter training."
   ]
  },
  {
   "cell_type": "code",
   "execution_count": null,
   "metadata": {},
   "outputs": [],
   "source": []
  }
 ],
 "metadata": {
  "kernelspec": {
   "display_name": "medium",
   "language": "python",
   "name": "medium"
  },
  "language_info": {
   "codemirror_mode": {
    "name": "ipython",
    "version": 3
   },
   "file_extension": ".py",
   "mimetype": "text/x-python",
   "name": "python",
   "nbconvert_exporter": "python",
   "pygments_lexer": "ipython3",
   "version": "3.6.8"
  }
 },
 "nbformat": 4,
 "nbformat_minor": 2
}
